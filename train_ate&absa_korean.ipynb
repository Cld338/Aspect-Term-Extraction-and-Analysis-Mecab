{
 "cells": [
  {
   "cell_type": "code",
   "execution_count": null,
   "metadata": {},
   "outputs": [],
   "source": [
    "!git clone https://github.com/Cld338/Aspect-Term-Extraction-and-Analysis-Custom ATE\n",
    "!pip install transformers\n",
    "!pip install sentencepiece"
   ]
  },
  {
   "cell_type": "code",
   "execution_count": null,
   "metadata": {},
   "outputs": [],
   "source": [
    "!pip install 'git+https://github.com/SKTBrain/KoBERT.git#egg=kobert_tokenizer&subdirectory=kobert_hf'"
   ]
  },
  {
   "cell_type": "code",
   "execution_count": null,
   "metadata": {},
   "outputs": [],
   "source": [
    "from kobert_tokenizer import KoBERTTokenizer\n",
    "from transformers import BertModel\n",
    "\n",
    "from transformers import AdamW\n",
    "from transformers.optimization import get_cosine_schedule_with_warmup"
   ]
  },
  {
   "cell_type": "code",
   "execution_count": null,
   "metadata": {},
   "outputs": [],
   "source": [
    "tokenizer = KoBERTTokenizer.from_pretrained('skt/kobert-base-v1', last_hidden_states=True)\n",
    "model = BertModel.from_pretrained('skt/kobert-base-v1', return_dict=False)"
   ]
  },
  {
   "cell_type": "code",
   "execution_count": null,
   "metadata": {},
   "outputs": [],
   "source": [
    "inputs = tokenizer(\"목차를 봤을 때 기억에 오래 남아요\", return_tensors=\"pt\")\n",
    "\n",
    "{'input_ids': tensor([[   2, 2068, 7389, 6116, 2421, 7088, 1844, 1291, 6896, 3422, 1420, 6999,\n",
    "            3]]), 'token_type_ids': tensor([[0, 0, 0, 0, 0, 0, 0, 0, 0, 0, 0, 0, 0]]), 'attention_mask': tensor([[1, 1, 1, 1, 1, 1, 1, 1, 1, 1, 1, 1, 1]])}"
   ]
  },
  {
   "cell_type": "code",
   "execution_count": null,
   "metadata": {},
   "outputs": [],
   "source": [
    "import torch.nn as nn\n",
    "from torch.nn.utils.rnn import pack_padded_sequence, pad_packed_sequence\n",
    "\n",
    "class Bert(nn.Module):\n",
    "    def __init__(\n",
    "            self,\n",
    "            model_name,\n",
    "            n_classes,\n",
    "            hidden_size,\n",
    "            n_layers,\n",
    "            dropout_p,\n",
    "    ):\n",
    "        self.model_name = model_name\n",
    "        self.n_class = n_classes\n",
    "        self.hidden_size = hidden_size\n",
    "        self.n_layers = n_layers\n",
    "        self.dropout_p = dropout_p\n",
    "\n",
    "        super().__init__()\n",
    "\n",
    "        self.bertmodel = BertModel.from_pretrained(self.model_name,  output_attentions = True, output_hidden_states=True)\n",
    "\n",
    "        self.classifier = nn.Sequential(\n",
    "            nn.Dropout(p=dropout_p),\n",
    "            nn.Linear(self.bertmodel.config.hidden_size, self.n_class)\n",
    "        )\n",
    "\n",
    "    def forward(self, x):\n",
    "       \n",
    "        # |x| = (batch_size, length)\n",
    "        # encoder_layer= self.bertmodel(x, attention_mask)\n",
    "        pooled_output = self.bertmodel(x)[1]\n",
    "      \n",
    "        x = self.classifier(pooled_output)\n",
    "\n",
    "        return x"
   ]
  },
  {
   "cell_type": "code",
   "execution_count": null,
   "metadata": {},
   "outputs": [],
   "source": [
    "model = bert(\n",
    "            'skt/kobert-base-v1',\n",
    "            3,\n",
    "            hidden_size = 100,\n",
    "            n_layers = 3,\n",
    "            dropout_p =.25,\n",
    "        )\n",
    "encoding = tokenizer(\"나는 할 수 있다\", return_tensors=\"pt\")\n",
    "\n",
    "x= encoding['input_ids']\n",
    "\n",
    "outputs = model(x)\n",
    "print(outputs)"
   ]
  }
 ],
 "metadata": {
  "kernelspec": {
   "display_name": "Python 3",
   "language": "python",
   "name": "python3"
  },
  "language_info": {
   "codemirror_mode": {
    "name": "ipython",
    "version": 3
   },
   "file_extension": ".py",
   "mimetype": "text/x-python",
   "name": "python",
   "nbconvert_exporter": "python",
   "pygments_lexer": "ipython3",
   "version": "3.8.3"
  }
 },
 "nbformat": 4,
 "nbformat_minor": 2
}
